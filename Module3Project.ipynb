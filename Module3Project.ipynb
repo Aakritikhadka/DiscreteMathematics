{
  "cells": [
    {
      "cell_type": "markdown",
      "source": [
        "**Project Part 3 : CPSMA 3133 Dr. Jacob's Discrete Mathematics**\n\n",
        "**Aakriti Khadka, 269021**\n\n",
        "**Probability**"
      ],
      "metadata": {
        "id": "pJnBCuKo5vl-"
      }
    },
    {
      "cell_type": "markdown",
      "metadata": {
        "id": "UOmHOruOAl2h"
      },
      "source": [
        "I am taking random occurence of dice for the sample space. Probability of getting 2 is 1/6. Probability of getting 4 is 1/6. Probability of not getting 2 or 4 is 4/6. "
      ]
    },
    {
      "cell_type": "code",
      "execution_count": null,
      "metadata": {
        "colab": {
          "base_uri": "https://localhost:8080/"
        },
        "id": "gcUQ9lzjA7_C",
        "outputId": "9d8ae576-714b-4ea1-86f8-7787cde72228"
      },
      "outputs": [
        {
          "data": {
            "text/plain": [
              "1.0"
            ]
          },
          "execution_count": 1,
          "metadata": {},
          "output_type": "execute_result"
        }
      ],
      "source": [
        "p = [1/6,1/6,4/6]\n",
        "sum(p)"
      ]
    },
    {
      "cell_type": "markdown",
      "metadata": {
        "id": "juQPShnnBQVx"
      },
      "source": [
        "I'm using first two simple events for a compound event i.e. either getting 2 or 4. Also, the probability of getting compound event will be same as the probability of getting union of these two simple events."
      ]
    },
    {
      "cell_type": "code",
      "execution_count": null,
      "metadata": {
        "colab": {
          "base_uri": "https://localhost:8080/"
        },
        "id": "UZDbf5KiCUeD",
        "outputId": "384297d0-2d77-4138-af32-fcf0b9bf18f3"
      },
      "outputs": [
        {
          "data": {
            "text/plain": [
              "0.3333333333333333"
            ]
          },
          "execution_count": 2,
          "metadata": {},
          "output_type": "execute_result"
        }
      ],
      "source": [
        "pC = 0\n",
        "for i in [0,1]:\n",
        "  pC += p[i]\n",
        "\n",
        "pC"
      ]
    },
    {
      "cell_type": "markdown",
      "metadata": {
        "id": "F3BcWQ-BChqO"
      },
      "source": [
        "The probability of getting intersection between the two simple events in the same draw is 0. So, I'm taking a simple event, probability of getting 2 and the compound event, probability of getting either 2 or 4 and their intersection is: pI = P(p2 intersection pC)"
      ]
    },
    {
      "cell_type": "code",
      "execution_count": null,
      "metadata": {
        "colab": {
          "base_uri": "https://localhost:8080/"
        },
        "id": "K_WbToMQDAr-",
        "outputId": "ace8c6b5-7868-4970-fac7-8cbf9314ddbe"
      },
      "outputs": [
        {
          "data": {
            "text/plain": [
              "0.05555555555555555"
            ]
          },
          "execution_count": 3,
          "metadata": {},
          "output_type": "execute_result"
        }
      ],
      "source": [
        "pI = p[0]*pC\n",
        "pI"
      ]
    },
    {
      "cell_type": "markdown",
      "metadata": {
        "id": "jf0737nRDNj1"
      },
      "source": [
        "Given we got 2 or 4 in our first draw, the probability of getting 2 on second draw is: P(2|C) = P(2 intersection C)/pC"
      ]
    },
    {
      "cell_type": "code",
      "execution_count": null,
      "metadata": {
        "colab": {
          "base_uri": "https://localhost:8080/"
        },
        "id": "rTz0n-aaDdCs",
        "outputId": "fe93b899-1eac-4387-cd27-057a41f4d8d9"
      },
      "outputs": [
        {
          "data": {
            "text/plain": [
              "0.16666666666666666"
            ]
          },
          "execution_count": 4,
          "metadata": {},
          "output_type": "execute_result"
        }
      ],
      "source": [
        "p2GC = pI/pC\n",
        "p2GC"
      ]
    },
    {
      "cell_type": "markdown",
      "metadata": {
        "id": "y_GnM5cyDkU3"
      },
      "source": [
        "Given we got 2 in our first draw, the probability of getting 2 or 4 on second draw is: P(C|2) = P(2 intersection C)/p2"
      ]
    },
    {
      "cell_type": "code",
      "execution_count": null,
      "metadata": {
        "colab": {
          "base_uri": "https://localhost:8080/"
        },
        "id": "P8RcbuU-D56Z",
        "outputId": "ae0a68bc-9a68-48cf-c54f-67cbdfd3c8d2"
      },
      "outputs": [
        {
          "data": {
            "text/plain": [
              "0.3333333333333333"
            ]
          },
          "execution_count": 5,
          "metadata": {},
          "output_type": "execute_result"
        }
      ],
      "source": [
        "pCG2 = pI/p[0]\n",
        "pCG2"
      ]
    },
    {
      "cell_type": "markdown",
      "metadata": {
        "id": "kKNGGQ8PEADn"
      },
      "source": [
        "Applying Bayes Theorem to verify the result:\n",
        "P(2|C) = P(2)P(C|2)/P(C)"
      ]
    },
    {
      "cell_type": "code",
      "execution_count": null,
      "metadata": {
        "colab": {
          "base_uri": "https://localhost:8080/"
        },
        "id": "dt_ib9UQEYj_",
        "outputId": "49e4be23-c7f2-4881-e6c1-291ca4db7ea9"
      },
      "outputs": [
        {
          "data": {
            "text/plain": [
              "0.16666666666666666"
            ]
          },
          "execution_count": 6,
          "metadata": {},
          "output_type": "execute_result"
        }
      ],
      "source": [
        "p2GC = (p[0]*pCG2)/pC\n",
        "p2GC"
      ]
    },
    {
      "cell_type": "markdown",
      "metadata": {
        "id": "1PsZacExEivB"
      },
      "source": [
        "The probability of complement of simple event, probability of getting 2 is probability of not getting 2.\n",
        "pN2 = p - p[0]"
      ]
    },
    {
      "cell_type": "code",
      "execution_count": null,
      "metadata": {
        "colab": {
          "base_uri": "https://localhost:8080/"
        },
        "id": "4--Dzjr4Ewtr",
        "outputId": "ac70da1f-eeca-47a5-f006-f711c5c838b6"
      },
      "outputs": [
        {
          "data": {
            "text/plain": [
              "0.8333333333333334"
            ]
          },
          "execution_count": 7,
          "metadata": {},
          "output_type": "execute_result"
        }
      ],
      "source": [
        "pN2 = sum(p) - p[0]\n",
        "pN2"
      ]
    },
    {
      "cell_type": "markdown",
      "metadata": {
        "id": "UNhEiJ21E59F"
      },
      "source": [
        "For simulation, I will need frequency counts instead of probabilities. Computing frequency counts:"
      ]
    },
    {
      "cell_type": "code",
      "execution_count": null,
      "metadata": {
        "colab": {
          "base_uri": "https://localhost:8080/"
        },
        "id": "4dXYf9MYFEAF",
        "outputId": "083b49e9-5a7e-4a50-842b-158710db62ad"
      },
      "outputs": [
        {
          "data": {
            "text/plain": [
              "[1.0, 1.0, 4.0]"
            ]
          },
          "execution_count": 8,
          "metadata": {},
          "output_type": "execute_result"
        }
      ],
      "source": [
        "p6 = [6*i for i in p]\n",
        "p6"
      ]
    },
    {
      "cell_type": "markdown",
      "metadata": {
        "id": "-CCySNQAFKkg"
      },
      "source": [
        "Generating random choices for 10 draws:"
      ]
    },
    {
      "cell_type": "code",
      "execution_count": null,
      "metadata": {
        "colab": {
          "base_uri": "https://localhost:8080/"
        },
        "id": "beQ4JHsQFP4_",
        "outputId": "d006239e-0a40-4e52-863c-00883920b216"
      },
      "outputs": [
        {
          "output_type": "execute_result",
          "data": {
            "text/plain": [
              "['rest', '2', '2', 'rest', '2', 'rest', '2', '4', 'rest', 'rest']"
            ]
          },
          "metadata": {},
          "execution_count": 20
        }
      ],
      "source": [
        "import random\n",
        "results = random.choices(['2','4','rest'], p6, k=10)\n",
        "results"
      ]
    },
    {
      "cell_type": "markdown",
      "source": [
        "Checking if the probability from the simulation matches the exact probability."
      ],
      "metadata": {
        "id": "PAi8EU6HHFDc"
      }
    },
    {
      "cell_type": "code",
      "source": [
        "count2 = 0;\n",
        "count4 = 0;\n",
        "countRest = 0;\n",
        "\n",
        "for i in results:\n",
        "  if i == \"2\":\n",
        "    count2 += 1\n",
        "  elif i == \"4\":\n",
        "    count4 += 1\n",
        "  else:\n",
        "    countRest += 1\n",
        "\n",
        "pS = [count2/len(results), count4/len(results), countRest/len(results)]\n",
        "pS"
      ],
      "metadata": {
        "colab": {
          "base_uri": "https://localhost:8080/"
        },
        "id": "WQYASiubHN3G",
        "outputId": "4491bdd4-c24b-4d9a-edee-a676c5efcd6b"
      },
      "execution_count": null,
      "outputs": [
        {
          "output_type": "execute_result",
          "data": {
            "text/plain": [
              "[0.4, 0.1, 0.5]"
            ]
          },
          "metadata": {},
          "execution_count": 21
        }
      ]
    },
    {
      "cell_type": "markdown",
      "source": [
        "It did not exactly matched the actual probability because while computing actual probability, we assume the event, probabilityof getting 2 happens exactly once in every 6 draws but while simulation, it draws randomly and it might not be the case and that is what our simulation results shows as well."
      ],
      "metadata": {
        "id": "ebuy3KcUHktf"
      }
    }
  ],
  "metadata": {
    "colab": {
      "name": "Probability.ipynb",
      "provenance": []
    },
    "kernelspec": {
      "display_name": "Python 3",
      "name": "python3"
    },
    "language_info": {
      "name": "python"
    }
  },
  "nbformat": 4,
  "nbformat_minor": 0
}
