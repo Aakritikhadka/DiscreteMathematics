{
  "nbformat": 4,
  "nbformat_minor": 0,
  "metadata": {
    "colab": {
      "name": "KhadkaAakriti_CPSMA3133_Proof",
      "provenance": []
    },
    "kernelspec": {
      "name": "python3",
      "display_name": "Python 3"
    },
    "language_info": {
      "name": "python"
    }
  },
  "cells": [
    {
      "cell_type": "markdown",
      "source": [
        "Project Module 5: Structures\n",
        "\n",
        "CPSMA 3133\n",
        "\n",
        "Dr. Jacob's Discrete Mathematics\n",
        "\n",
        "Aakriti Khadka, 269021\n"
      ],
      "metadata": {
        "id": "uDGtNSb4_zWi"
      }
    },
    {
      "cell_type": "code",
      "execution_count": 14,
      "metadata": {
        "colab": {
          "base_uri": "https://localhost:8080/",
          "height": 295
        },
        "id": "fTBwpOXv4Coz",
        "outputId": "9ffd6c59-15bc-47a7-aec2-51032f3b8720"
      },
      "outputs": [
        {
          "output_type": "display_data",
          "data": {
            "image/png": "[encoded data removed]",
            "text/plain": [
              "<Figure size 432x288 with 1 Axes>"
            ]
          },
          "metadata": {
            "needs_background": "light"
          }
        }
      ],
      "source": [
        "import matplotlib.pyplot as plt\n",
        "import numpy as np\n",
        "x = np.linspace(-2,10,100)\n",
        "y = 2*x+1\n",
        "plt.plot(x, y, '-r', label='y=2x+1')\n",
        "plt.title('Graph of y=2x+1')\n",
        "plt.xlabel('x', color='black')\n",
        "plt.ylabel('y', color='black')\n",
        "plt.legend(loc='upper left')\n",
        "plt.grid()\n",
        "plt.show()"
      ]
    },
    {
      "cell_type": "markdown",
      "source": [
        "As we initialized a linear equation y = mx+b to y = 2x+1. From this equation also we can say that the slope of the equation is 2. We later proved it by creating a function to check it."
      ],
      "metadata": {
        "id": "DF0s_04J74jg"
      }
    },
    {
      "cell_type": "code",
      "source": [
        "def getSlope(x1, y1, x2, y2):\n",
        "    slope = (y2-y1)/(x2-x1)\n",
        "    return slope"
      ],
      "metadata": {
        "id": "dcfHbjH45W5v"
      },
      "execution_count": 10,
      "outputs": []
    },
    {
      "cell_type": "markdown",
      "source": [
        "To find the slope we passed the values that lies in the graph. (x1,y1) --> (2,5) and (x2,y2) --> (6,13)"
      ],
      "metadata": {
        "id": "RyColF9E6-9g"
      }
    },
    {
      "cell_type": "code",
      "source": [
        "slope_m = getSlope(2,5,6,13)\n",
        "slope_m"
      ],
      "metadata": {
        "colab": {
          "base_uri": "https://localhost:8080/"
        },
        "id": "zhzFc7MW7PaI",
        "outputId": "b81811ce-d5e9-4f86-acfd-4a57c7e15c0f"
      },
      "execution_count": 11,
      "outputs": [
        {
          "output_type": "execute_result",
          "data": {
            "text/plain": [
              "2.0"
            ]
          },
          "metadata": {},
          "execution_count": 11
        }
      ]
    },
    {
      "cell_type": "markdown",
      "source": [
        "To find the y-intercept, i set value of x to 0 and find the value of b."
      ],
      "metadata": {
        "id": "V03T_3p2552N"
      }
    },
    {
      "cell_type": "code",
      "source": [
        "# y = mx+b --> y = 2x+1\n",
        "y = 2*0+1\n",
        "#where m = 2 and x = 0\n",
        "y"
      ],
      "metadata": {
        "colab": {
          "base_uri": "https://localhost:8080/"
        },
        "id": "l7Ow0woX9pk-",
        "outputId": "aac9c682-8bbc-4689-dbeb-a8a04b3f3972"
      },
      "execution_count": 12,
      "outputs": [
        {
          "output_type": "execute_result",
          "data": {
            "text/plain": [
              "1"
            ]
          },
          "metadata": {},
          "execution_count": 12
        }
      ]
    },
    {
      "cell_type": "markdown",
      "source": [
        "From above we can say that (0,1) is y-intercept of the function y =2x+1"
      ],
      "metadata": {
        "id": "sLrXbuSo-Ogj"
      }
    },
    {
      "cell_type": "markdown",
      "source": [
        "I was shocked seeing how we could plot a graph of a function ny using python. I was unable to write the code myself but did some research and tried to get the plot of the function. I was able to check the y-interscept by creating a function too."
      ],
      "metadata": {
        "id": "MQGZHA3q-ocF"
      }
    },
    {
      "cell_type": "markdown",
      "source": [
        "Reference: https://www.codegrepper.com/code-examples/python/y%3Dmx%2Bb+python"
      ],
      "metadata": {
        "id": "gGQprFhC_Oql"
      }
    }
  ]
}