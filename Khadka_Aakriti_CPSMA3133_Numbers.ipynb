{
  "nbformat": 4,
  "nbformat_minor": 0,
  "metadata": {
    "colab": {
      "name": "Khadka_Aakriti_CPSMA3133_Numbers.ipynb",
      "provenance": []
    },
    "kernelspec": {
      "name": "python3",
      "display_name": "Python 3"
    },
    "language_info": {
      "name": "python"
    }
  },
  "cells": [
    {
      "cell_type": "markdown",
      "source": [
        "Project Module 7 : CPSMA 3913 Dr. Jacob's Discrete Mathematics\n",
        "\n",
        "Logic\n",
        "\n",
        "Aakriti Khadka\n",
        "\n",
        "26039"
      ],
      "metadata": {
        "id": "2SKtwuNSS2Rs"
      }
    },
    {
      "cell_type": "code",
      "execution_count": null,
      "metadata": {
        "id": "eT2L6Cb1KUln"
      },
      "outputs": [],
      "source": [
        "# I love watching different genre of movies so I would like to go with the genre as my prepositions. I like Comedy, Action but not Horror.\n",
        "# I will assign p,q,r with the genre Comedy, Action, Horror respectively.\n",
        "# p = Comedy\n",
        "# q = Action\n",
        "# r = Horror"
      ]
    },
    {
      "cell_type": "code",
      "source": [
        "comedy = True #p\n",
        "action = True #q\n",
        "horror = False #r"
      ],
      "metadata": {
        "id": "WFkVyGoILaup"
      },
      "execution_count": 2,
      "outputs": []
    },
    {
      "cell_type": "markdown",
      "source": [
        "Truth of Statements:"
      ],
      "metadata": {
        "id": "i6J2hyj1Lo73"
      }
    },
    {
      "cell_type": "code",
      "source": [
        "# r∧p \n",
        "# This truth of the statement returns False as I dont like horror movies.\n",
        "print(horror and comedy)"
      ],
      "metadata": {
        "colab": {
          "base_uri": "https://localhost:8080/"
        },
        "id": "UdQyz8urMvX3",
        "outputId": "b2e700c9-ec86-42ff-88a1-37d5a77f1dcd"
      },
      "execution_count": 5,
      "outputs": [
        {
          "output_type": "stream",
          "name": "stdout",
          "text": [
            "False\n"
          ]
        }
      ]
    },
    {
      "cell_type": "code",
      "source": [
        "# r∨¬q\n",
        "# This truth of the statement returns False as both of the statements are not True.\n",
        "print(horror or (not action))"
      ],
      "metadata": {
        "colab": {
          "base_uri": "https://localhost:8080/"
        },
        "id": "5iBOT2iWNEzy",
        "outputId": "81a53490-7f7e-4cd6-be67-0ee4753f2040"
      },
      "execution_count": 8,
      "outputs": [
        {
          "output_type": "stream",
          "name": "stdout",
          "text": [
            "False\n"
          ]
        }
      ]
    },
    {
      "cell_type": "code",
      "source": [
        "# r⇒p\n",
        "# This truth of the statement returns True as both of the statements are True.\n",
        "print((not horror) or comedy)"
      ],
      "metadata": {
        "colab": {
          "base_uri": "https://localhost:8080/"
        },
        "id": "Fz-Kd7-6NvWj",
        "outputId": "9cac8f2e-9076-4220-b187-179b791a865a"
      },
      "execution_count": 9,
      "outputs": [
        {
          "output_type": "stream",
          "name": "stdout",
          "text": [
            "True\n"
          ]
        }
      ]
    },
    {
      "cell_type": "markdown",
      "source": [
        " Complete truth table for ¬ (r ⊕ p) ⇒ (p ∨ q)"
      ],
      "metadata": {
        "id": "hLKxC0J-OnEF"
      }
    },
    {
      "cell_type": "code",
      "source": [
        "!pip install truth-table-generator\n",
        "# generate truth table\n",
        "import ttg\n",
        "table = ttg.Truths(['p','q','r'],['~q','r and p','r or ~q','r=>p'], ints=False)\n",
        "table.as_pandas().style.set_properties(**{'text-align':'left'}).hide_index()"
      ],
      "metadata": {
        "colab": {
          "base_uri": "https://localhost:8080/",
          "height": 708
        },
        "id": "SQ3RdIVFOu6s",
        "outputId": "e4ba905d-cd8d-45f5-de10-151182d54968"
      },
      "execution_count": 11,
      "outputs": [
        {
          "output_type": "stream",
          "name": "stdout",
          "text": [
            "Collecting truth-table-generator\n",
            "  Downloading truth_table_generator-1.1.2.tar.gz (14 kB)\n",
            "Requirement already satisfied: numpy in /usr/local/lib/python3.7/dist-packages (from truth-table-generator) (1.21.5)\n",
            "Requirement already satisfied: pandas in /usr/local/lib/python3.7/dist-packages (from truth-table-generator) (1.3.5)\n",
            "Collecting PTable\n",
            "  Downloading PTable-0.9.2.tar.gz (31 kB)\n",
            "Requirement already satisfied: pyparsing in /usr/local/lib/python3.7/dist-packages (from truth-table-generator) (3.0.7)\n",
            "Requirement already satisfied: tabulate in /usr/local/lib/python3.7/dist-packages (from truth-table-generator) (0.8.9)\n",
            "Requirement already satisfied: jinja2 in /usr/local/lib/python3.7/dist-packages (from truth-table-generator) (2.11.3)\n",
            "Requirement already satisfied: MarkupSafe>=0.23 in /usr/local/lib/python3.7/dist-packages (from jinja2->truth-table-generator) (2.0.1)\n",
            "Requirement already satisfied: python-dateutil>=2.7.3 in /usr/local/lib/python3.7/dist-packages (from pandas->truth-table-generator) (2.8.2)\n",
            "Requirement already satisfied: pytz>=2017.3 in /usr/local/lib/python3.7/dist-packages (from pandas->truth-table-generator) (2018.9)\n",
            "Requirement already satisfied: six>=1.5 in /usr/local/lib/python3.7/dist-packages (from python-dateutil>=2.7.3->pandas->truth-table-generator) (1.15.0)\n",
            "Building wheels for collected packages: truth-table-generator, PTable\n",
            "  Building wheel for truth-table-generator (setup.py) ... \u001b[?25l\u001b[?25hdone\n",
            "  Created wheel for truth-table-generator: filename=truth_table_generator-1.1.2-py3-none-any.whl size=13960 sha256=5238ac73ff8947351f43212b3e7983a377653fd6adea801c3045c0b2c545b259\n",
            "  Stored in directory: /root/.cache/pip/wheels/9a/55/b5/77f5756832494eafda92c7a94c1365ac31088a18a3a97dd480\n",
            "  Building wheel for PTable (setup.py) ... \u001b[?25l\u001b[?25hdone\n",
            "  Created wheel for PTable: filename=PTable-0.9.2-py3-none-any.whl size=22925 sha256=d48d50954cfdd3f52942ab553f662dc38025a2e901041636b8f72dc91dfe961f\n",
            "  Stored in directory: /root/.cache/pip/wheels/33/df/2f/674985b3f8a2de3f96357d1eadef5110f74fa91b3785e52a54\n",
            "Successfully built truth-table-generator PTable\n",
            "Installing collected packages: PTable, truth-table-generator\n",
            "Successfully installed PTable-0.9.2 truth-table-generator-1.1.2\n"
          ]
        },
        {
          "output_type": "execute_result",
          "data": {
            "text/html": [
              "<style type=\"text/css\">\n",
              "#T_bbeaa_row0_col0, #T_bbeaa_row0_col1, #T_bbeaa_row0_col2, #T_bbeaa_row0_col3, #T_bbeaa_row0_col4, #T_bbeaa_row0_col5, #T_bbeaa_row0_col6, #T_bbeaa_row1_col0, #T_bbeaa_row1_col1, #T_bbeaa_row1_col2, #T_bbeaa_row1_col3, #T_bbeaa_row1_col4, #T_bbeaa_row1_col5, #T_bbeaa_row1_col6, #T_bbeaa_row2_col0, #T_bbeaa_row2_col1, #T_bbeaa_row2_col2, #T_bbeaa_row2_col3, #T_bbeaa_row2_col4, #T_bbeaa_row2_col5, #T_bbeaa_row2_col6, #T_bbeaa_row3_col0, #T_bbeaa_row3_col1, #T_bbeaa_row3_col2, #T_bbeaa_row3_col3, #T_bbeaa_row3_col4, #T_bbeaa_row3_col5, #T_bbeaa_row3_col6, #T_bbeaa_row4_col0, #T_bbeaa_row4_col1, #T_bbeaa_row4_col2, #T_bbeaa_row4_col3, #T_bbeaa_row4_col4, #T_bbeaa_row4_col5, #T_bbeaa_row4_col6, #T_bbeaa_row5_col0, #T_bbeaa_row5_col1, #T_bbeaa_row5_col2, #T_bbeaa_row5_col3, #T_bbeaa_row5_col4, #T_bbeaa_row5_col5, #T_bbeaa_row5_col6, #T_bbeaa_row6_col0, #T_bbeaa_row6_col1, #T_bbeaa_row6_col2, #T_bbeaa_row6_col3, #T_bbeaa_row6_col4, #T_bbeaa_row6_col5, #T_bbeaa_row6_col6, #T_bbeaa_row7_col0, #T_bbeaa_row7_col1, #T_bbeaa_row7_col2, #T_bbeaa_row7_col3, #T_bbeaa_row7_col4, #T_bbeaa_row7_col5, #T_bbeaa_row7_col6 {\n",
              "  text-align: left;\n",
              "}\n",
              "</style>\n",
              "<table id=\"T_bbeaa_\" class=\"dataframe\">\n",
              "  <thead>\n",
              "    <tr>\n",
              "      <th class=\"col_heading level0 col0\" >p</th>\n",
              "      <th class=\"col_heading level0 col1\" >q</th>\n",
              "      <th class=\"col_heading level0 col2\" >r</th>\n",
              "      <th class=\"col_heading level0 col3\" >~q</th>\n",
              "      <th class=\"col_heading level0 col4\" >r and p</th>\n",
              "      <th class=\"col_heading level0 col5\" >r or ~q</th>\n",
              "      <th class=\"col_heading level0 col6\" >r=>p</th>\n",
              "    </tr>\n",
              "  </thead>\n",
              "  <tbody>\n",
              "    <tr>\n",
              "      <td id=\"T_bbeaa_row0_col0\" class=\"data row0 col0\" >True</td>\n",
              "      <td id=\"T_bbeaa_row0_col1\" class=\"data row0 col1\" >True</td>\n",
              "      <td id=\"T_bbeaa_row0_col2\" class=\"data row0 col2\" >True</td>\n",
              "      <td id=\"T_bbeaa_row0_col3\" class=\"data row0 col3\" >False</td>\n",
              "      <td id=\"T_bbeaa_row0_col4\" class=\"data row0 col4\" >True</td>\n",
              "      <td id=\"T_bbeaa_row0_col5\" class=\"data row0 col5\" >True</td>\n",
              "      <td id=\"T_bbeaa_row0_col6\" class=\"data row0 col6\" >True</td>\n",
              "    </tr>\n",
              "    <tr>\n",
              "      <td id=\"T_bbeaa_row1_col0\" class=\"data row1 col0\" >True</td>\n",
              "      <td id=\"T_bbeaa_row1_col1\" class=\"data row1 col1\" >True</td>\n",
              "      <td id=\"T_bbeaa_row1_col2\" class=\"data row1 col2\" >False</td>\n",
              "      <td id=\"T_bbeaa_row1_col3\" class=\"data row1 col3\" >False</td>\n",
              "      <td id=\"T_bbeaa_row1_col4\" class=\"data row1 col4\" >False</td>\n",
              "      <td id=\"T_bbeaa_row1_col5\" class=\"data row1 col5\" >False</td>\n",
              "      <td id=\"T_bbeaa_row1_col6\" class=\"data row1 col6\" >True</td>\n",
              "    </tr>\n",
              "    <tr>\n",
              "      <td id=\"T_bbeaa_row2_col0\" class=\"data row2 col0\" >True</td>\n",
              "      <td id=\"T_bbeaa_row2_col1\" class=\"data row2 col1\" >False</td>\n",
              "      <td id=\"T_bbeaa_row2_col2\" class=\"data row2 col2\" >True</td>\n",
              "      <td id=\"T_bbeaa_row2_col3\" class=\"data row2 col3\" >True</td>\n",
              "      <td id=\"T_bbeaa_row2_col4\" class=\"data row2 col4\" >True</td>\n",
              "      <td id=\"T_bbeaa_row2_col5\" class=\"data row2 col5\" >True</td>\n",
              "      <td id=\"T_bbeaa_row2_col6\" class=\"data row2 col6\" >True</td>\n",
              "    </tr>\n",
              "    <tr>\n",
              "      <td id=\"T_bbeaa_row3_col0\" class=\"data row3 col0\" >True</td>\n",
              "      <td id=\"T_bbeaa_row3_col1\" class=\"data row3 col1\" >False</td>\n",
              "      <td id=\"T_bbeaa_row3_col2\" class=\"data row3 col2\" >False</td>\n",
              "      <td id=\"T_bbeaa_row3_col3\" class=\"data row3 col3\" >True</td>\n",
              "      <td id=\"T_bbeaa_row3_col4\" class=\"data row3 col4\" >False</td>\n",
              "      <td id=\"T_bbeaa_row3_col5\" class=\"data row3 col5\" >True</td>\n",
              "      <td id=\"T_bbeaa_row3_col6\" class=\"data row3 col6\" >True</td>\n",
              "    </tr>\n",
              "    <tr>\n",
              "      <td id=\"T_bbeaa_row4_col0\" class=\"data row4 col0\" >False</td>\n",
              "      <td id=\"T_bbeaa_row4_col1\" class=\"data row4 col1\" >True</td>\n",
              "      <td id=\"T_bbeaa_row4_col2\" class=\"data row4 col2\" >True</td>\n",
              "      <td id=\"T_bbeaa_row4_col3\" class=\"data row4 col3\" >False</td>\n",
              "      <td id=\"T_bbeaa_row4_col4\" class=\"data row4 col4\" >False</td>\n",
              "      <td id=\"T_bbeaa_row4_col5\" class=\"data row4 col5\" >True</td>\n",
              "      <td id=\"T_bbeaa_row4_col6\" class=\"data row4 col6\" >False</td>\n",
              "    </tr>\n",
              "    <tr>\n",
              "      <td id=\"T_bbeaa_row5_col0\" class=\"data row5 col0\" >False</td>\n",
              "      <td id=\"T_bbeaa_row5_col1\" class=\"data row5 col1\" >True</td>\n",
              "      <td id=\"T_bbeaa_row5_col2\" class=\"data row5 col2\" >False</td>\n",
              "      <td id=\"T_bbeaa_row5_col3\" class=\"data row5 col3\" >False</td>\n",
              "      <td id=\"T_bbeaa_row5_col4\" class=\"data row5 col4\" >False</td>\n",
              "      <td id=\"T_bbeaa_row5_col5\" class=\"data row5 col5\" >False</td>\n",
              "      <td id=\"T_bbeaa_row5_col6\" class=\"data row5 col6\" >True</td>\n",
              "    </tr>\n",
              "    <tr>\n",
              "      <td id=\"T_bbeaa_row6_col0\" class=\"data row6 col0\" >False</td>\n",
              "      <td id=\"T_bbeaa_row6_col1\" class=\"data row6 col1\" >False</td>\n",
              "      <td id=\"T_bbeaa_row6_col2\" class=\"data row6 col2\" >True</td>\n",
              "      <td id=\"T_bbeaa_row6_col3\" class=\"data row6 col3\" >True</td>\n",
              "      <td id=\"T_bbeaa_row6_col4\" class=\"data row6 col4\" >False</td>\n",
              "      <td id=\"T_bbeaa_row6_col5\" class=\"data row6 col5\" >True</td>\n",
              "      <td id=\"T_bbeaa_row6_col6\" class=\"data row6 col6\" >False</td>\n",
              "    </tr>\n",
              "    <tr>\n",
              "      <td id=\"T_bbeaa_row7_col0\" class=\"data row7 col0\" >False</td>\n",
              "      <td id=\"T_bbeaa_row7_col1\" class=\"data row7 col1\" >False</td>\n",
              "      <td id=\"T_bbeaa_row7_col2\" class=\"data row7 col2\" >False</td>\n",
              "      <td id=\"T_bbeaa_row7_col3\" class=\"data row7 col3\" >True</td>\n",
              "      <td id=\"T_bbeaa_row7_col4\" class=\"data row7 col4\" >False</td>\n",
              "      <td id=\"T_bbeaa_row7_col5\" class=\"data row7 col5\" >True</td>\n",
              "      <td id=\"T_bbeaa_row7_col6\" class=\"data row7 col6\" >True</td>\n",
              "    </tr>\n",
              "  </tbody>\n",
              "</table>\n"
            ],
            "text/plain": [
              "<pandas.io.formats.style.Styler at 0x7f4fe9b2a550>"
            ]
          },
          "metadata": {},
          "execution_count": 11
        }
      ]
    },
    {
      "cell_type": "code",
      "source": [
        "# Generating Truth Table ¬ (r ⊕ p) ⇒ (p ∨ q)\n",
        "#I used xor for ⊕\n",
        "table = ttg.Truths(['p','q','r'],['p xor q','~(p xor q)','q or r','~(p xor q) => (q or r)'], ints=False)\n",
        "table.as_pandas().style.set_properties(**{'text-align':'left'}).hide_index()"
      ],
      "metadata": {
        "colab": {
          "base_uri": "https://localhost:8080/",
          "height": 297
        },
        "id": "Lnoy2OnRP84m",
        "outputId": "26529e8c-7aeb-4d42-fa8f-93f4781d3a1f"
      },
      "execution_count": 13,
      "outputs": [
        {
          "output_type": "execute_result",
          "data": {
            "text/html": [
              "<style type=\"text/css\">\n",
              "#T_59c83_row0_col0, #T_59c83_row0_col1, #T_59c83_row0_col2, #T_59c83_row0_col3, #T_59c83_row0_col4, #T_59c83_row0_col5, #T_59c83_row0_col6, #T_59c83_row1_col0, #T_59c83_row1_col1, #T_59c83_row1_col2, #T_59c83_row1_col3, #T_59c83_row1_col4, #T_59c83_row1_col5, #T_59c83_row1_col6, #T_59c83_row2_col0, #T_59c83_row2_col1, #T_59c83_row2_col2, #T_59c83_row2_col3, #T_59c83_row2_col4, #T_59c83_row2_col5, #T_59c83_row2_col6, #T_59c83_row3_col0, #T_59c83_row3_col1, #T_59c83_row3_col2, #T_59c83_row3_col3, #T_59c83_row3_col4, #T_59c83_row3_col5, #T_59c83_row3_col6, #T_59c83_row4_col0, #T_59c83_row4_col1, #T_59c83_row4_col2, #T_59c83_row4_col3, #T_59c83_row4_col4, #T_59c83_row4_col5, #T_59c83_row4_col6, #T_59c83_row5_col0, #T_59c83_row5_col1, #T_59c83_row5_col2, #T_59c83_row5_col3, #T_59c83_row5_col4, #T_59c83_row5_col5, #T_59c83_row5_col6, #T_59c83_row6_col0, #T_59c83_row6_col1, #T_59c83_row6_col2, #T_59c83_row6_col3, #T_59c83_row6_col4, #T_59c83_row6_col5, #T_59c83_row6_col6, #T_59c83_row7_col0, #T_59c83_row7_col1, #T_59c83_row7_col2, #T_59c83_row7_col3, #T_59c83_row7_col4, #T_59c83_row7_col5, #T_59c83_row7_col6 {\n",
              "  text-align: left;\n",
              "}\n",
              "</style>\n",
              "<table id=\"T_59c83_\" class=\"dataframe\">\n",
              "  <thead>\n",
              "    <tr>\n",
              "      <th class=\"col_heading level0 col0\" >p</th>\n",
              "      <th class=\"col_heading level0 col1\" >q</th>\n",
              "      <th class=\"col_heading level0 col2\" >r</th>\n",
              "      <th class=\"col_heading level0 col3\" >p xor q</th>\n",
              "      <th class=\"col_heading level0 col4\" >~(p xor q)</th>\n",
              "      <th class=\"col_heading level0 col5\" >q or r</th>\n",
              "      <th class=\"col_heading level0 col6\" >~(p xor q) => (q or r)</th>\n",
              "    </tr>\n",
              "  </thead>\n",
              "  <tbody>\n",
              "    <tr>\n",
              "      <td id=\"T_59c83_row0_col0\" class=\"data row0 col0\" >True</td>\n",
              "      <td id=\"T_59c83_row0_col1\" class=\"data row0 col1\" >True</td>\n",
              "      <td id=\"T_59c83_row0_col2\" class=\"data row0 col2\" >True</td>\n",
              "      <td id=\"T_59c83_row0_col3\" class=\"data row0 col3\" >False</td>\n",
              "      <td id=\"T_59c83_row0_col4\" class=\"data row0 col4\" >True</td>\n",
              "      <td id=\"T_59c83_row0_col5\" class=\"data row0 col5\" >True</td>\n",
              "      <td id=\"T_59c83_row0_col6\" class=\"data row0 col6\" >True</td>\n",
              "    </tr>\n",
              "    <tr>\n",
              "      <td id=\"T_59c83_row1_col0\" class=\"data row1 col0\" >True</td>\n",
              "      <td id=\"T_59c83_row1_col1\" class=\"data row1 col1\" >True</td>\n",
              "      <td id=\"T_59c83_row1_col2\" class=\"data row1 col2\" >False</td>\n",
              "      <td id=\"T_59c83_row1_col3\" class=\"data row1 col3\" >False</td>\n",
              "      <td id=\"T_59c83_row1_col4\" class=\"data row1 col4\" >True</td>\n",
              "      <td id=\"T_59c83_row1_col5\" class=\"data row1 col5\" >True</td>\n",
              "      <td id=\"T_59c83_row1_col6\" class=\"data row1 col6\" >True</td>\n",
              "    </tr>\n",
              "    <tr>\n",
              "      <td id=\"T_59c83_row2_col0\" class=\"data row2 col0\" >True</td>\n",
              "      <td id=\"T_59c83_row2_col1\" class=\"data row2 col1\" >False</td>\n",
              "      <td id=\"T_59c83_row2_col2\" class=\"data row2 col2\" >True</td>\n",
              "      <td id=\"T_59c83_row2_col3\" class=\"data row2 col3\" >True</td>\n",
              "      <td id=\"T_59c83_row2_col4\" class=\"data row2 col4\" >False</td>\n",
              "      <td id=\"T_59c83_row2_col5\" class=\"data row2 col5\" >True</td>\n",
              "      <td id=\"T_59c83_row2_col6\" class=\"data row2 col6\" >True</td>\n",
              "    </tr>\n",
              "    <tr>\n",
              "      <td id=\"T_59c83_row3_col0\" class=\"data row3 col0\" >True</td>\n",
              "      <td id=\"T_59c83_row3_col1\" class=\"data row3 col1\" >False</td>\n",
              "      <td id=\"T_59c83_row3_col2\" class=\"data row3 col2\" >False</td>\n",
              "      <td id=\"T_59c83_row3_col3\" class=\"data row3 col3\" >True</td>\n",
              "      <td id=\"T_59c83_row3_col4\" class=\"data row3 col4\" >False</td>\n",
              "      <td id=\"T_59c83_row3_col5\" class=\"data row3 col5\" >False</td>\n",
              "      <td id=\"T_59c83_row3_col6\" class=\"data row3 col6\" >True</td>\n",
              "    </tr>\n",
              "    <tr>\n",
              "      <td id=\"T_59c83_row4_col0\" class=\"data row4 col0\" >False</td>\n",
              "      <td id=\"T_59c83_row4_col1\" class=\"data row4 col1\" >True</td>\n",
              "      <td id=\"T_59c83_row4_col2\" class=\"data row4 col2\" >True</td>\n",
              "      <td id=\"T_59c83_row4_col3\" class=\"data row4 col3\" >True</td>\n",
              "      <td id=\"T_59c83_row4_col4\" class=\"data row4 col4\" >False</td>\n",
              "      <td id=\"T_59c83_row4_col5\" class=\"data row4 col5\" >True</td>\n",
              "      <td id=\"T_59c83_row4_col6\" class=\"data row4 col6\" >True</td>\n",
              "    </tr>\n",
              "    <tr>\n",
              "      <td id=\"T_59c83_row5_col0\" class=\"data row5 col0\" >False</td>\n",
              "      <td id=\"T_59c83_row5_col1\" class=\"data row5 col1\" >True</td>\n",
              "      <td id=\"T_59c83_row5_col2\" class=\"data row5 col2\" >False</td>\n",
              "      <td id=\"T_59c83_row5_col3\" class=\"data row5 col3\" >True</td>\n",
              "      <td id=\"T_59c83_row5_col4\" class=\"data row5 col4\" >False</td>\n",
              "      <td id=\"T_59c83_row5_col5\" class=\"data row5 col5\" >True</td>\n",
              "      <td id=\"T_59c83_row5_col6\" class=\"data row5 col6\" >True</td>\n",
              "    </tr>\n",
              "    <tr>\n",
              "      <td id=\"T_59c83_row6_col0\" class=\"data row6 col0\" >False</td>\n",
              "      <td id=\"T_59c83_row6_col1\" class=\"data row6 col1\" >False</td>\n",
              "      <td id=\"T_59c83_row6_col2\" class=\"data row6 col2\" >True</td>\n",
              "      <td id=\"T_59c83_row6_col3\" class=\"data row6 col3\" >False</td>\n",
              "      <td id=\"T_59c83_row6_col4\" class=\"data row6 col4\" >True</td>\n",
              "      <td id=\"T_59c83_row6_col5\" class=\"data row6 col5\" >True</td>\n",
              "      <td id=\"T_59c83_row6_col6\" class=\"data row6 col6\" >True</td>\n",
              "    </tr>\n",
              "    <tr>\n",
              "      <td id=\"T_59c83_row7_col0\" class=\"data row7 col0\" >False</td>\n",
              "      <td id=\"T_59c83_row7_col1\" class=\"data row7 col1\" >False</td>\n",
              "      <td id=\"T_59c83_row7_col2\" class=\"data row7 col2\" >False</td>\n",
              "      <td id=\"T_59c83_row7_col3\" class=\"data row7 col3\" >False</td>\n",
              "      <td id=\"T_59c83_row7_col4\" class=\"data row7 col4\" >True</td>\n",
              "      <td id=\"T_59c83_row7_col5\" class=\"data row7 col5\" >False</td>\n",
              "      <td id=\"T_59c83_row7_col6\" class=\"data row7 col6\" >False</td>\n",
              "    </tr>\n",
              "  </tbody>\n",
              "</table>\n"
            ],
            "text/plain": [
              "<pandas.io.formats.style.Styler at 0x7f4fe958ee10>"
            ]
          },
          "metadata": {},
          "execution_count": 13
        }
      ]
    },
    {
      "cell_type": "markdown",
      "source": [
        "I enjoyed playing with truth tables with the different genre of movies. I was amazed seeing that we could implement it and see in the real time."
      ],
      "metadata": {
        "id": "C1TBuohSSWOt"
      }
    }
  ]
}