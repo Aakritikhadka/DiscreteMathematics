{
  "nbformat": 4,
  "nbformat_minor": 0,
  "metadata": {
    "colab": {
      "name": "Untitled1.ipynb",
      "provenance": []
    },
    "kernelspec": {
      "name": "python3",
      "display_name": "Python 3"
    },
    "language_info": {
      "name": "python"
    }
  },
  "cells": [
    {
      "cell_type": "markdown",
      "source": [
        "Project Module 6 : CPSMA 3913 Dr. Jacob's Discrete Mathematics\n",
        " \n",
        "Numbers\n",
        "\n",
        "Aakriti Khadka\n",
        "\n",
        "#26039"
      ],
      "metadata": {
        "id": "h-EtUvkBcBia"
      }
    },
    {
      "cell_type": "markdown",
      "source": [
        "Converting the number 240367 into base ten. I used the built in str method and converted using the builtin int method by passing the number and base value of that number."
      ],
      "metadata": {
        "id": "BqAvkn4FZ6WP"
      }
    },
    {
      "cell_type": "code",
      "execution_count": null,
      "metadata": {
        "colab": {
          "base_uri": "https://localhost:8080/"
        },
        "id": "g7SNVt_zRTHg",
        "outputId": "758110f3-a91c-4de1-da3a-afd6c8bc0892"
      },
      "outputs": [
        {
          "output_type": "stream",
          "name": "stdout",
          "text": [
            "6201\n"
          ]
        }
      ],
      "source": [
        "num = 24036\n",
        "num_str = str(num)\n",
        "x = int(num_str,7)\n",
        "print(x)"
      ]
    },
    {
      "cell_type": "markdown",
      "source": [
        "Converting the hexadecimal number 72e3 or  into base ten. I converted using the builtin int method by passing the number and base value of that number."
      ],
      "metadata": {
        "id": "9iTH_jIQahvx"
      }
    },
    {
      "cell_type": "code",
      "source": [
        "num_str = '72e3'\n",
        "x = int(num_str,16)\n",
        "print(x)"
      ],
      "metadata": {
        "colab": {
          "base_uri": "https://localhost:8080/"
        },
        "id": "j5QO1XRCShGc",
        "outputId": "836b8c9c-30a2-4d96-8ef4-4ab816aa502d"
      },
      "execution_count": null,
      "outputs": [
        {
          "output_type": "stream",
          "name": "stdout",
          "text": [
            "29411\n"
          ]
        }
      ]
    },
    {
      "cell_type": "markdown",
      "source": [
        " Converting 3735928559 into hexadecimal. I used the builtin function hex to directly convert the given hexadecimal number. As, python provides direct functions for standard base conversions."
      ],
      "metadata": {
        "id": "GsIkiBfNa1yA"
      }
    },
    {
      "cell_type": "code",
      "source": [
        "num = 3735928559\n",
        "hex_num = hex(num)\n",
        "print(str(hex_num[2:].upper()))"
      ],
      "metadata": {
        "colab": {
          "base_uri": "https://localhost:8080/",
          "height": 35
        },
        "id": "-b-IlBq1Tbfj",
        "outputId": "d693cc65-ba2f-4398-92c8-4a5c105d5f8b"
      },
      "execution_count": null,
      "outputs": [
        {
          "output_type": "execute_result",
          "data": {
            "application/vnd.google.colaboratory.intrinsic+json": {
              "type": "string"
            },
            "text/plain": [
              "'DEADBEEF'"
            ]
          },
          "metadata": {},
          "execution_count": 11
        }
      ]
    },
    {
      "cell_type": "markdown",
      "source": [
        "Using two’s complement to preform the base ten subtraction 25 − 37. I first initialized the given number to two different variables. Then I find the one complement and two's complement by adding 1 to it. Then I stored it in the output variable."
      ],
      "metadata": {
        "id": "jW0-ekyPbbjZ"
      }
    },
    {
      "cell_type": "code",
      "source": [
        "a = 25\n",
        "b = 37\n",
        "#finding the 1's complement of b\n",
        "ones_b = ~b\n",
        "#two's complement\n",
        "twos_b = ones_b+1\n",
        "output = a+twos_b\n",
        "print(output)\n"
      ],
      "metadata": {
        "colab": {
          "base_uri": "https://localhost:8080/"
        },
        "id": "FmAdFNOzX8tU",
        "outputId": "2d08ffe0-f505-43cb-a3d4-1af8b95722f4"
      },
      "execution_count": null,
      "outputs": [
        {
          "output_type": "execute_result",
          "data": {
            "text/plain": [
              "-12"
            ]
          },
          "metadata": {},
          "execution_count": 12
        }
      ]
    }
  ]
}